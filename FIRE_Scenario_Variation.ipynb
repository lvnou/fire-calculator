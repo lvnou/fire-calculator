{
 "cells": [
  {
   "cell_type": "code",
   "execution_count": null,
   "id": "1112b025",
   "metadata": {},
   "outputs": [],
   "source": [
    "import numpy as np\n",
    "import pandas as pd\n",
    "import matplotlib.pyplot as plt"
   ]
  },
  {
   "cell_type": "code",
   "execution_count": null,
   "id": "10eada19",
   "metadata": {},
   "outputs": [],
   "source": [
    "import FIRE as fire\n",
    "import imp\n",
    "imp.reload(fire)"
   ]
  },
  {
   "cell_type": "code",
   "execution_count": null,
   "id": "c9dafe1d",
   "metadata": {},
   "outputs": [],
   "source": [
    "# Boundary conditions / external effects\n",
    "all_conditions = fire.FIREExternalConditionsArray('../External.json')\n",
    "print(f\"Available conditions: {all_conditions.keys()}\")\n",
    "conditions = all_conditions.select(\"SCENARIO_AVERAGE_INFLATION_AND_CAPITAL_TAX\")\n",
    "\n",
    "# Income/assets + Investments\n",
    "all_investments = fire.FIREInvestmentArray('../Investments.json')\n",
    "investments = all_investments.select(\"SCENARIO_1\")\n",
    "print(f\"Available investments: {all_investments.keys()}\")\n",
    "\n",
    "# Target\n",
    "all_targets = fire.FIRETargetArray('../Targets.json')\n",
    "#target = all_targets.select(\"SCENARIO_LIVABLE_AGGRESSIVE\")\n",
    "print(f\"Available targets: {all_targets.keys()}\")"
   ]
  },
  {
   "cell_type": "markdown",
   "id": "0b3831d3",
   "metadata": {},
   "source": [
    "# Retirement ages in varying scenarios"
   ]
  },
  {
   "cell_type": "code",
   "execution_count": null,
   "id": "256bcec2",
   "metadata": {},
   "outputs": [],
   "source": [
    "# Build up simulations\n",
    "\n",
    "all_sims = dict()\n",
    "all_sims_value = dict()\n",
    "for tk, tv in all_targets.items():\n",
    "    simulation = fire.FIRESimulation(investments=investments, target=tv, conditions=conditions)\n",
    "    simulation.perform()\n",
    "    all_sims[tk] = simulation.simulation_retirement_age\n",
    "    all_sims_value[tk] = tv.calc_target_value()"
   ]
  },
  {
   "cell_type": "code",
   "execution_count": null,
   "id": "5e7f89f3",
   "metadata": {},
   "outputs": [],
   "source": [
    "# Plot retirement ages\n",
    "all_k = [*all_sims.keys()]\n",
    "all_v = np.array([*all_sims.values()])\n",
    "\n",
    "plt.figure(figsize=(16, 4))\n",
    "plt.bar([k.replace(\"_\",\"_\\n\") for k in all_k], all_v)\n",
    "plt.xlabel(\"Scenario name\")\n",
    "plt.ylabel(\"Retirement age / [years]\")\n",
    "for ii,(d,v) in enumerate(zip(all_k, all_v)):\n",
    "    col = \"black\"\n",
    "    plt.text(ii, v,f\"{v} years\", ha = 'center', va='bottom', c=col)"
   ]
  },
  {
   "cell_type": "code",
   "execution_count": null,
   "id": "0a7b270f",
   "metadata": {},
   "outputs": [],
   "source": [
    "# Plot target values\n",
    "all_k = [*all_sims_value.keys()]\n",
    "all_v = np.array([*all_sims_value.values()])\n",
    "\n",
    "plt.figure(figsize=(16, 4))\n",
    "plt.bar([k.replace(\"_\",\"_\\n\") for k in all_k], all_v)\n",
    "plt.xlabel(\"Scenario name\")\n",
    "plt.ylabel(\"Target value / [€]\")\n",
    "for ii,(d,v) in enumerate(zip(all_k, all_v)):\n",
    "    col = \"black\"\n",
    "    plt.text(ii, v,f\"{v}€\", ha = 'center', va='bottom', c=col)"
   ]
  },
  {
   "cell_type": "markdown",
   "id": "5c0e300c",
   "metadata": {},
   "source": [
    "# Influence of monthly investment on retirement age"
   ]
  },
  {
   "cell_type": "code",
   "execution_count": null,
   "id": "2fc4bf04",
   "metadata": {},
   "outputs": [],
   "source": [
    "# Build up simulations\n",
    "def simulate_investments(scenario, all_rates):\n",
    "    all_sims = dict()\n",
    "    for r in all_rates:\n",
    "        investments.investment_monthly = r\n",
    "        simulation = fire.FIRESimulation(investments=investments, target=all_targets[scenario], conditions=conditions)\n",
    "        simulation.perform()\n",
    "        all_sims[r] = simulation.simulation_retirement_age\n",
    "    return all_sims\n",
    "\n",
    "# Plotting\n",
    "def plot_investments_vs_retirement_age():\n",
    "    all_rates = np.arange(1000,6000,500)\n",
    "    net_savings_share, income_tax_rate = 0.45, 0.5\n",
    "    all_est_incomes = all_rates * 12 / net_savings_share / (1.-income_tax_rate)\n",
    "    for sc in all_targets.keys():\n",
    "        all_sims = simulate_investments(sc, all_rates)\n",
    "        all_k = [*all_sims.keys()]\n",
    "        all_v = np.array([*all_sims.values()])\n",
    "        plt.plot(all_k, all_v, label = sc)\n",
    "        \n",
    "    plt.title(\"Influence of monthly investments on retirement age\")\n",
    "    plt.xlabel(\"Monthly investments / [€]\")\n",
    "    plt.ylabel(\"Retirement age / [years]\")\n",
    "    plt.legend()\n",
    "    ax2 = plt.twiny()\n",
    "    ax2.plot(all_est_incomes, all_v, alpha = 0)\n",
    "    ax2.set_xlabel(\"Estimated yearly income / [€]\")"
   ]
  },
  {
   "cell_type": "code",
   "execution_count": null,
   "id": "661f39ca",
   "metadata": {},
   "outputs": [],
   "source": [
    "plot_investments_vs_retirement_age()"
   ]
  },
  {
   "cell_type": "code",
   "execution_count": null,
   "id": "4c4754f7",
   "metadata": {},
   "outputs": [],
   "source": [
    "!jupyter nbconvert --to pdf FIRE_Scenario_Variation.ipynb --output Report_Scenario_Variation-xyz.pdf"
   ]
  },
  {
   "cell_type": "code",
   "execution_count": null,
   "id": "dee75a70",
   "metadata": {},
   "outputs": [],
   "source": []
  }
 ],
 "metadata": {
  "kernelspec": {
   "display_name": "Python 3 (ipykernel)",
   "language": "python",
   "name": "python3"
  },
  "language_info": {
   "codemirror_mode": {
    "name": "ipython",
    "version": 3
   },
   "file_extension": ".py",
   "mimetype": "text/x-python",
   "name": "python",
   "nbconvert_exporter": "python",
   "pygments_lexer": "ipython3",
   "version": "3.11.4"
  }
 },
 "nbformat": 4,
 "nbformat_minor": 5
}
