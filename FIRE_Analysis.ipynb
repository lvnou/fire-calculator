{
 "cells": [
  {
   "cell_type": "code",
   "execution_count": null,
   "id": "99d2fdd2",
   "metadata": {
    "tags": []
   },
   "outputs": [],
   "source": [
    "import numpy as np\n",
    "import pandas as pd\n",
    "import matplotlib.pyplot as plt"
   ]
  },
  {
   "cell_type": "code",
   "execution_count": null,
   "id": "1404b8ef",
   "metadata": {},
   "outputs": [],
   "source": [
    "import FIRE as fire\n",
    "import imp\n",
    "imp.reload(fire)"
   ]
  },
  {
   "cell_type": "markdown",
   "id": "16233dc8",
   "metadata": {},
   "source": [
    "# Notes"
   ]
  },
  {
   "cell_type": "markdown",
   "id": "ee648974",
   "metadata": {},
   "source": [
    "All values are expressed in todays (nominal) €'s. This makes estimation of prices easier as they can be judged from today.\n",
    "Thus, also things like the earings/monthly investment growth shall not consider the effects of inflation.\n",
    "\n",
    "It is currently assumed that initial assets and monthly investment will retain the same portfolio structure. This means, no rebalancing of the portfolio takes place to e.g. a certain percentage of low-risk bond investments.\n",
    "\n",
    "No recurring investments are assumed after retirement."
   ]
  },
  {
   "cell_type": "markdown",
   "id": "41cb6363",
   "metadata": {},
   "source": [
    "# Setup"
   ]
  },
  {
   "cell_type": "code",
   "execution_count": null,
   "id": "9db8bd40",
   "metadata": {},
   "outputs": [],
   "source": [
    "# Boundary conditions / external effects\n",
    "all_conditions = fire.FIREExternalConditionsArray('../External.json')\n",
    "print(f\"Available conditions: {all_conditions.keys()}\")\n",
    "conditions = all_conditions.select(\"SCENARIO_AVERAGE_INFLATION_AND_CAPITAL_TAX\")\n",
    "\n",
    "# Income/assets + Investments\n",
    "all_investments = fire.FIREInvestmentArray('../Investments.json')\n",
    "investments = all_investments.select(\"SCENARIO_1\")\n",
    "print(f\"Available investments: {all_investments.keys()}\")\n",
    "\n",
    "# Target\n",
    "all_targets = fire.FIRETargetArray('../Targets.json')\n",
    "target = all_targets.select(\"SCENARIO_LIVABLE_AGGRESSIVE\")\n",
    "print(f\"Available targets: {all_targets.keys()}\")\n",
    "\n",
    "# Simulation\n",
    "simulation = fire.FIRESimulation(investments=investments, target=target, conditions=conditions)"
   ]
  },
  {
   "cell_type": "markdown",
   "id": "1a272c2d",
   "metadata": {
    "tags": []
   },
   "source": [
    "# Investment analysis"
   ]
  },
  {
   "cell_type": "code",
   "execution_count": null,
   "id": "53d8f7af",
   "metadata": {},
   "outputs": [],
   "source": [
    "investments.plot_portfolio_performance(\"FIX\")"
   ]
  },
  {
   "cell_type": "code",
   "execution_count": null,
   "id": "0ddc0bf9",
   "metadata": {},
   "outputs": [],
   "source": [
    "investments.plot_portfolio_performance(\"VAR\")"
   ]
  },
  {
   "cell_type": "code",
   "execution_count": null,
   "id": "e90f162f",
   "metadata": {},
   "outputs": [],
   "source": [
    "plt.figure(figsize=(16,4))\n",
    "simulation.plot_growth_rates()"
   ]
  },
  {
   "cell_type": "markdown",
   "id": "0e72daa5",
   "metadata": {},
   "source": [
    "# Target analysis"
   ]
  },
  {
   "cell_type": "code",
   "execution_count": null,
   "id": "df88936e",
   "metadata": {
    "tags": []
   },
   "outputs": [],
   "source": [
    "target.plot_pie_value()"
   ]
  },
  {
   "cell_type": "markdown",
   "id": "ff9f6316",
   "metadata": {},
   "source": [
    "# FIRE analysis"
   ]
  },
  {
   "cell_type": "code",
   "execution_count": null,
   "id": "74276fed",
   "metadata": {
    "scrolled": false
   },
   "outputs": [],
   "source": [
    "sim_res = simulation.perform()"
   ]
  },
  {
   "cell_type": "code",
   "execution_count": null,
   "id": "3561ff17",
   "metadata": {},
   "outputs": [],
   "source": [
    "simulation.plot_value_over_time()"
   ]
  },
  {
   "cell_type": "code",
   "execution_count": null,
   "id": "90e8a9de",
   "metadata": {},
   "outputs": [],
   "source": [
    "simulation.plot_investments_over_time()"
   ]
  },
  {
   "cell_type": "code",
   "execution_count": null,
   "id": "1f679bae",
   "metadata": {},
   "outputs": [],
   "source": [
    "simulation.plot_value_components_over_time()"
   ]
  },
  {
   "cell_type": "code",
   "execution_count": null,
   "id": "9a5a4fd0",
   "metadata": {},
   "outputs": [],
   "source": []
  },
  {
   "cell_type": "code",
   "execution_count": null,
   "id": "6ee45c00",
   "metadata": {},
   "outputs": [],
   "source": []
  }
 ],
 "metadata": {
  "kernelspec": {
   "display_name": "Python 2",
   "language": "python",
   "name": "python2"
  },
  "language_info": {
   "codemirror_mode": {
    "name": "ipython",
    "version": 3
   },
   "file_extension": ".py",
   "mimetype": "text/x-python",
   "name": "python",
   "nbconvert_exporter": "python",
   "pygments_lexer": "ipython3",
   "version": "3.11.4"
  }
 },
 "nbformat": 4,
 "nbformat_minor": 5
}
