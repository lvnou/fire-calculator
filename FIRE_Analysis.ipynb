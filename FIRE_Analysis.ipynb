{
 "cells": [
  {
   "cell_type": "code",
   "execution_count": null,
   "id": "66f09c95-680b-4b35-8f7b-592c26433aa6",
   "metadata": {
    "tags": []
   },
   "outputs": [],
   "source": [
    "import numpy as np\n",
    "import pandas as pd\n",
    "import matplotlib.pyplot as plt"
   ]
  },
  {
   "cell_type": "code",
   "execution_count": null,
   "id": "92312617",
   "metadata": {},
   "outputs": [],
   "source": [
    "import FIRE as fire\n",
    "import imp\n",
    "imp.reload(fire)"
   ]
  },
  {
   "cell_type": "markdown",
   "id": "29f555a3",
   "metadata": {},
   "source": [
    "# Notes"
   ]
  },
  {
   "cell_type": "markdown",
   "id": "4b431cb0",
   "metadata": {},
   "source": [
    "All values are expressed in todays (nominal) €'s. This makes estimation of prices easier as they can be judged from today.\n",
    "Thus, also things like the earings/monthly investment growth shall not consider the effects of inflation.\n",
    "\n",
    "It is currently assumed that initial assets and monthly investment will retain the same portfolio structure. This means, no rebalancing of the portfolio takes place to e.g. a certain percentage of low-risk bond investments.\n",
    "\n",
    "No recurring investments are assumed after retirement."
   ]
  },
  {
   "cell_type": "markdown",
   "id": "4bc4cbc1-4c28-4eb9-a8a8-40a67c229179",
   "metadata": {},
   "source": [
    "# Setup"
   ]
  },
  {
   "cell_type": "code",
   "execution_count": null,
   "id": "e1469334",
   "metadata": {},
   "outputs": [],
   "source": [
    "# Boundary conditions / external effects\n",
    "all_conditions = fire.FIREExternalConditionsArray('../External.json')\n",
    "print(f\"Available conditions: {all_conditions.keys()}\")\n",
    "conditions = all_conditions.select(\"SCENARIO_AVERAGE_INFLATION_AND_CAPITAL_TAX\")\n",
    "\n",
    "# Income/assets + Investments\n",
    "all_investments = fire.FIREInvestmentArray('../Investments.json')\n",
    "investments = all_investments.select(\"SCENARIO_1\")\n",
    "print(f\"Available investments: {all_investments.keys()}\")\n",
    "\n",
    "# Target\n",
    "all_targets = fire.FIRETargetArray('../Targets.json')\n",
    "target = all_targets.select(\"SCENARIO_LIVABLE_AGGRESSIVE\")\n",
    "print(f\"Available targets: {all_targets.keys()}\")\n",
    "\n",
    "# Simulation\n",
    "simulation = fire.FIRESimulation(investments=investments, target=target, conditions=conditions)"
   ]
  },
  {
   "cell_type": "markdown",
   "id": "f346a33d-6866-4a88-b343-8d13929f34de",
   "metadata": {
    "tags": []
   },
   "source": [
    "# Investment analysis"
   ]
  },
  {
   "cell_type": "code",
   "execution_count": null,
   "id": "994083aa",
   "metadata": {},
   "outputs": [],
   "source": [
    "investments.plot_portfolio_performance(\"FIX\")"
   ]
  },
  {
   "cell_type": "code",
   "execution_count": null,
   "id": "13ae36ba",
   "metadata": {},
   "outputs": [],
   "source": [
    "investments.plot_portfolio_performance(\"VAR\")"
   ]
  },
  {
   "cell_type": "code",
   "execution_count": null,
   "id": "46c74cc0",
   "metadata": {},
   "outputs": [],
   "source": [
    "plt.figure(figsize=(16,4))\n",
    "simulation.plot_growth_rates()"
   ]
  },
  {
   "cell_type": "markdown",
   "id": "423b1c55-d455-45c5-a180-cf9850b7825e",
   "metadata": {},
   "source": [
    "# Target analysis"
   ]
  },
  {
   "cell_type": "code",
   "execution_count": null,
   "id": "4edcfa49-99c8-48ac-a21f-1585ae16dc10",
   "metadata": {
    "tags": []
   },
   "outputs": [],
   "source": [
    "target.plot_pie_value()"
   ]
  },
  {
   "cell_type": "markdown",
   "id": "23cf7c04-90f1-46ec-a565-b14bfbe8833e",
   "metadata": {},
   "source": [
    "# FIRE analysis"
   ]
  },
  {
   "cell_type": "code",
   "execution_count": null,
   "id": "e86f368d",
   "metadata": {
    "scrolled": false
   },
   "outputs": [],
   "source": [
    "sim_res = simulation.perform()"
   ]
  },
  {
   "cell_type": "code",
   "execution_count": null,
   "id": "04b1c84e",
   "metadata": {},
   "outputs": [],
   "source": [
    "simulation.plot_value_over_time()"
   ]
  },
  {
   "cell_type": "code",
   "execution_count": null,
   "id": "fc130fd6-7be0-4388-861f-c0a8cc9fd2f0",
   "metadata": {},
   "outputs": [],
   "source": [
    "simulation.plot_investments_over_time()"
   ]
  },
  {
   "cell_type": "code",
   "execution_count": null,
   "id": "e462a7a6",
   "metadata": {},
   "outputs": [],
   "source": [
    "simulation.plot_value_components_over_time()"
   ]
  },
  {
   "cell_type": "code",
   "execution_count": null,
   "id": "d4780623",
   "metadata": {},
   "outputs": [],
   "source": []
  },
  {
   "cell_type": "code",
   "execution_count": null,
   "id": "d8a1da09",
   "metadata": {},
   "outputs": [],
   "source": []
  }
 ],
 "metadata": {
  "kernelspec": {
   "display_name": "Python 3 (ipykernel)",
   "language": "python",
   "name": "python3"
  },
  "language_info": {
   "codemirror_mode": {
    "name": "ipython",
    "version": 3
   },
   "file_extension": ".py",
   "mimetype": "text/x-python",
   "name": "python",
   "nbconvert_exporter": "python",
   "pygments_lexer": "ipython3",
   "version": "3.11.4"
  }
 },
 "nbformat": 4,
 "nbformat_minor": 5
}
